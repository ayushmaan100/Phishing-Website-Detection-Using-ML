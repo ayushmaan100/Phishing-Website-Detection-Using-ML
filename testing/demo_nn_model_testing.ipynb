{
 "cells": [
  {
   "cell_type": "markdown",
   "id": "2ae51943",
   "metadata": {},
   "source": [
    "# 🤖 Neural Network Model Testing\n",
    "This notebook tests the trained neural network model (`neural_network_model.pkl`) on the phishing URL dataset."
   ]
  },
  {
   "cell_type": "code",
   "execution_count": 2,
   "id": "154a3a76",
   "metadata": {},
   "outputs": [],
   "source": [
    "# ✅ Step 1: Import libraries\n",
    "import pandas as pd\n",
    "import joblib\n",
    "import matplotlib.pyplot as plt\n",
    "import seaborn as sns\n",
    "from sklearn.metrics import accuracy_score, f1_score, classification_report, confusion_matrix\n"
   ]
  },
  {
   "cell_type": "code",
   "execution_count": 6,
   "id": "93137514",
   "metadata": {},
   "outputs": [
    {
     "name": "stdout",
     "output_type": "stream",
     "text": [
      "Model and scaler loaded ✅\n"
     ]
    }
   ],
   "source": [
    "# ✅ Step 2: Load model and scaler\n",
    "model = joblib.load(\"../model/neural_network_model.pkl\")\n",
    "scaler = joblib.load(\"../model/scaler.pkl\")\n",
    "print(\"Model and scaler loaded ✅\")\n"
   ]
  },
  {
   "cell_type": "code",
   "execution_count": 8,
   "id": "19b1a802",
   "metadata": {},
   "outputs": [
    {
     "name": "stdout",
     "output_type": "stream",
     "text": [
      "Data loaded and scaled ✅\n"
     ]
    }
   ],
   "source": [
    "# ✅ Step 3: Load and prepare data\n",
    "df = pd.read_csv(\"../data/urlData.csv\")\n",
    "df.dropna(inplace=True)\n",
    "\n",
    "# Drop 'Label' and 'Domain'\n",
    "X = df.drop(['Label', 'Domain'], axis=1)\n",
    "y = df['Label']\n",
    "\n",
    "# Scale features\n",
    "X_scaled = scaler.transform(X)\n",
    "print(\"Data loaded and scaled ✅\")\n"
   ]
  },
  {
   "cell_type": "code",
   "execution_count": 9,
   "id": "52097dd1",
   "metadata": {},
   "outputs": [
    {
     "name": "stdout",
     "output_type": "stream",
     "text": [
      "Sample 1:\n",
      "  🔹 Actual: Legitimate\n",
      "  🔸 Predicted: Legitimate\n",
      "---\n",
      "Sample 2:\n",
      "  🔹 Actual: Legitimate\n",
      "  🔸 Predicted: Legitimate\n",
      "---\n",
      "Sample 3:\n",
      "  🔹 Actual: Legitimate\n",
      "  🔸 Predicted: Legitimate\n",
      "---\n",
      "Sample 4:\n",
      "  🔹 Actual: Legitimate\n",
      "  🔸 Predicted: Legitimate\n",
      "---\n",
      "Sample 5:\n",
      "  🔹 Actual: Legitimate\n",
      "  🔸 Predicted: Legitimate\n",
      "---\n"
     ]
    }
   ],
   "source": [
    "# ✅ Step 4: Predict and compare first 5 samples\n",
    "y_pred = model.predict(X_scaled[:5])\n",
    "actual = y[:5].tolist()\n",
    "\n",
    "for i in range(5):\n",
    "    print(f\"Sample {i+1}:\")\n",
    "    print(\"  🔹 Actual:\", \"Phishing\" if actual[i] == 1 else \"Legitimate\")\n",
    "    print(\"  🔸 Predicted:\", \"Phishing\" if y_pred[i] == 1 else \"Legitimate\")\n",
    "    print(\"---\")\n"
   ]
  },
  {
   "cell_type": "code",
   "execution_count": 11,
   "id": "d1a8208e",
   "metadata": {},
   "outputs": [
    {
     "name": "stdout",
     "output_type": "stream",
     "text": [
      "Accuracy: 0.9615673322323975\n",
      "F1 Score: 0.9599958328992604\n",
      "\n",
      "Classification Report:\n",
      "              precision    recall  f1-score   support\n",
      "\n",
      "           0       0.93      1.00      0.96     10000\n",
      "           1       1.00      0.92      0.96      9983\n",
      "\n",
      "    accuracy                           0.96     19983\n",
      "   macro avg       0.96      0.96      0.96     19983\n",
      "weighted avg       0.96      0.96      0.96     19983\n",
      "\n"
     ]
    }
   ],
   "source": [
    "# ✅ Step 5: Evaluate the full model\n",
    "y_full_pred = model.predict(X_scaled)\n",
    "\n",
    "print(\"Accuracy:\", accuracy_score(y, y_full_pred))\n",
    "print(\"F1 Score:\", f1_score(y, y_full_pred))\n",
    "print(\"\\nClassification Report:\")\n",
    "print(classification_report(y, y_full_pred))\n"
   ]
  },
  {
   "cell_type": "code",
   "execution_count": 12,
   "id": "47ba0bd5",
   "metadata": {},
   "outputs": [
    {
     "data": {
      "image/png": "[encoded data removed]",
      "text/plain": [
       "<Figure size 640x480 with 2 Axes>"
      ]
     },
     "metadata": {},
     "output_type": "display_data"
    }
   ],
   "source": [
    "# ✅ Step 6: Plot Confusion Matrix\n",
    "cm = confusion_matrix(y, y_full_pred)\n",
    "sns.heatmap(cm, annot=True, fmt='d', cmap='Blues')\n",
    "plt.xlabel(\"Predicted\")\n",
    "plt.ylabel(\"Actual\")\n",
    "plt.title(\"Confusion Matrix - Neural Network Model\")\n",
    "plt.show()\n"
   ]
  }
 ],
 "metadata": {
  "kernelspec": {
   "display_name": "base",
   "language": "python",
   "name": "python3"
  },
  "language_info": {
   "codemirror_mode": {
    "name": "ipython",
    "version": 3
   },
   "file_extension": ".py",
   "mimetype": "text/x-python",
   "name": "python",
   "nbconvert_exporter": "python",
   "pygments_lexer": "ipython3",
   "version": "3.12.4"
  }
 },
 "nbformat": 4,
 "nbformat_minor": 5
}
