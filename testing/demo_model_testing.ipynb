{
 "cells": [
  {
   "cell_type": "markdown",
   "id": "92cc31e1",
   "metadata": {},
   "source": [
    "# 🔍 Model Testing Demo - Phishing URL Classifier\n",
    "This notebook loads your trained Random Forest model and tests it on new data from `urlData.csv`."
   ]
  },
  {
   "cell_type": "code",
   "execution_count": 8,
   "id": "8e378b6d",
   "metadata": {},
   "outputs": [],
   "source": [
    "# ✅ Step 1: Import Libraries\n",
    "import pandas as pd\n",
    "import joblib\n",
    "import numpy as np"
   ]
  },
  {
   "cell_type": "code",
   "execution_count": 11,
   "id": "98bb71da",
   "metadata": {},
   "outputs": [
    {
     "name": "stdout",
     "output_type": "stream",
     "text": [
      "Model loaded successfully ✅\n"
     ]
    }
   ],
   "source": [
    "\n",
    "# ✅ Step 2: Load Trained Model\n",
    "model = joblib.load(\"../model/random_forest_model.pkl\")\n",
    "print(\"Model loaded successfully ✅\")"
   ]
  },
  {
   "cell_type": "code",
   "execution_count": 13,
   "id": "2e953ad0",
   "metadata": {},
   "outputs": [
    {
     "name": "stdout",
     "output_type": "stream",
     "text": [
      "Data loaded and cleaned. Shape: (19983, 14)\n"
     ]
    }
   ],
   "source": [
    "# ✅ Step 3: Load Dataset and Preprocess\n",
    "df = pd.read_csv(\"../data/urlData.csv\")\n",
    "df.dropna(inplace=True)\n",
    "\n",
    "# Drop 'Domain' (text) and 'Label' columns for features\n",
    "X = df.drop(['Label', 'Domain'], axis=1)\n",
    "y = df['Label']\n",
    "\n",
    "print(\"Data loaded and cleaned. Shape:\", X.shape)"
   ]
  },
  {
   "cell_type": "code",
   "execution_count": 7,
   "id": "714d1692",
   "metadata": {},
   "outputs": [
    {
     "name": "stdout",
     "output_type": "stream",
     "text": [
      "Prediction for row 0: Legitimate\n"
     ]
    },
    {
     "name": "stderr",
     "output_type": "stream",
     "text": [
      "/opt/anaconda3/lib/python3.12/site-packages/sklearn/base.py:493: UserWarning: X does not have valid feature names, but RandomForestClassifier was fitted with feature names\n",
      "  warnings.warn(\n"
     ]
    }
   ],
   "source": [
    "# ✅ Step 4: Predict on Sample Row\n",
    "sample_index = 0  # change this index to test other samples\n",
    "sample = X.iloc[sample_index]\n",
    "\n",
    "prediction = model.predict([sample])\n",
    "label = \"Phishing\" if prediction[0] == 1 else \"Legitimate\"\n",
    "\n",
    "print(f\"Prediction for row {sample_index}: {label}\")"
   ]
  },
  {
   "cell_type": "code",
   "execution_count": 14,
   "id": "45667fec",
   "metadata": {},
   "outputs": [
    {
     "name": "stdout",
     "output_type": "stream",
     "text": [
      "Predictions: ['Legitimate', 'Legitimate', 'Legitimate', 'Legitimate', 'Legitimate']\n",
      "Actual: ['Legitimate', 'Legitimate', 'Legitimate', 'Legitimate', 'Legitimate']\n"
     ]
    }
   ],
   "source": [
    "# ✅ Step 5: Predict on First 5 Rows\n",
    "preds = model.predict(X.head(5))\n",
    "actual = y.head(5).tolist()\n",
    "result = [\"Phishing\" if p == 1 else \"Legitimate\" for p in preds]\n",
    "\n",
    "print(\"Predictions:\", result)\n",
    "print(\"Actual:\", [\"Phishing\" if a == 1 else \"Legitimate\" for a in actual])"
   ]
  }
 ],
 "metadata": {
  "kernelspec": {
   "display_name": "base",
   "language": "python",
   "name": "python3"
  },
  "language_info": {
   "codemirror_mode": {
    "name": "ipython",
    "version": 3
   },
   "file_extension": ".py",
   "mimetype": "text/x-python",
   "name": "python",
   "nbconvert_exporter": "python",
   "pygments_lexer": "ipython3",
   "version": "3.12.4"
  }
 },
 "nbformat": 4,
 "nbformat_minor": 5
}
