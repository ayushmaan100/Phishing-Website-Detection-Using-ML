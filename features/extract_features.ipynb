{
 "cells": [
  {
   "cell_type": "markdown",
   "id": "790409b2",
   "metadata": {},
   "source": [
    "# Phishing Website Detection Feature Extraction\n",
    "\n",
    "The objective of this notebook is to extract the selctive features form the URLs."
   ]
  },
  {
   "cell_type": "code",
   "execution_count": 262,
   "id": "b4b2730a",
   "metadata": {},
   "outputs": [],
   "source": [
    "#importing the required packages\n",
    "import pandas as pd "
   ]
  },
  {
   "cell_type": "markdown",
   "id": "2e249083",
   "metadata": {},
   "source": [
    "### Phising Url"
   ]
  },
  {
   "cell_type": "code",
   "execution_count": 263,
   "id": "daa90e39",
   "metadata": {},
   "outputs": [
    {
     "data": {
      "text/html": [
       "<div>\n",
       "<style scoped>\n",
       "    .dataframe tbody tr th:only-of-type {\n",
       "        vertical-align: middle;\n",
       "    }\n",
       "\n",
       "    .dataframe tbody tr th {\n",
       "        vertical-align: top;\n",
       "    }\n",
       "\n",
       "    .dataframe thead th {\n",
       "        text-align: right;\n",
       "    }\n",
       "</style>\n",
       "<table border=\"1\" class=\"dataframe\">\n",
       "  <thead>\n",
       "    <tr style=\"text-align: right;\">\n",
       "      <th></th>\n",
       "      <th>URL</th>\n",
       "      <th>Label</th>\n",
       "    </tr>\n",
       "  </thead>\n",
       "  <tbody>\n",
       "    <tr>\n",
       "      <th>0</th>\n",
       "      <td>nobell.it/70ffb52d079109dca5664cce6f317373782/...</td>\n",
       "      <td>bad</td>\n",
       "    </tr>\n",
       "    <tr>\n",
       "      <th>1</th>\n",
       "      <td>www.dghjdgf.com/paypal.co.uk/cycgi-bin/webscrc...</td>\n",
       "      <td>bad</td>\n",
       "    </tr>\n",
       "    <tr>\n",
       "      <th>2</th>\n",
       "      <td>serviciosbys.com/paypal.cgi.bin.get-into.herf....</td>\n",
       "      <td>bad</td>\n",
       "    </tr>\n",
       "    <tr>\n",
       "      <th>3</th>\n",
       "      <td>mail.printakid.com/www.online.americanexpress....</td>\n",
       "      <td>bad</td>\n",
       "    </tr>\n",
       "    <tr>\n",
       "      <th>4</th>\n",
       "      <td>thewhiskeydregs.com/wp-content/themes/widescre...</td>\n",
       "      <td>bad</td>\n",
       "    </tr>\n",
       "  </tbody>\n",
       "</table>\n",
       "</div>"
      ],
      "text/plain": [
       "                                                 URL Label\n",
       "0  nobell.it/70ffb52d079109dca5664cce6f317373782/...   bad\n",
       "1  www.dghjdgf.com/paypal.co.uk/cycgi-bin/webscrc...   bad\n",
       "2  serviciosbys.com/paypal.cgi.bin.get-into.herf....   bad\n",
       "3  mail.printakid.com/www.online.americanexpress....   bad\n",
       "4  thewhiskeydregs.com/wp-content/themes/widescre...   bad"
      ]
     },
     "execution_count": 263,
     "metadata": {},
     "output_type": "execute_result"
    }
   ],
   "source": [
    "# loading the phishing urls in dataframe\n",
    "df1 = pd.read_csv(r'../data/phishing_urls_48K.csv')\n",
    "df1.head()"
   ]
  },
  {
   "cell_type": "code",
   "execution_count": 264,
   "id": "b1cf0a2a",
   "metadata": {},
   "outputs": [
    {
     "data": {
      "text/html": [
       "<div>\n",
       "<style scoped>\n",
       "    .dataframe tbody tr th:only-of-type {\n",
       "        vertical-align: middle;\n",
       "    }\n",
       "\n",
       "    .dataframe tbody tr th {\n",
       "        vertical-align: top;\n",
       "    }\n",
       "\n",
       "    .dataframe thead th {\n",
       "        text-align: right;\n",
       "    }\n",
       "</style>\n",
       "<table border=\"1\" class=\"dataframe\">\n",
       "  <thead>\n",
       "    <tr style=\"text-align: right;\">\n",
       "      <th></th>\n",
       "      <th>URL</th>\n",
       "      <th>Label</th>\n",
       "    </tr>\n",
       "  </thead>\n",
       "  <tbody>\n",
       "    <tr>\n",
       "      <th>0</th>\n",
       "      <td>center-paypal-resolution-com.cgi-bin.dispatch9...</td>\n",
       "      <td>bad</td>\n",
       "    </tr>\n",
       "    <tr>\n",
       "      <th>1</th>\n",
       "      <td>bit.ly/SWeTMu</td>\n",
       "      <td>bad</td>\n",
       "    </tr>\n",
       "    <tr>\n",
       "      <th>2</th>\n",
       "      <td>www.ekriswebshop.nl/js/?cgi.ebay.ebay.co.uk?ro...</td>\n",
       "      <td>bad</td>\n",
       "    </tr>\n",
       "    <tr>\n",
       "      <th>3</th>\n",
       "      <td>www.itaupersonnakite.com</td>\n",
       "      <td>bad</td>\n",
       "    </tr>\n",
       "    <tr>\n",
       "      <th>4</th>\n",
       "      <td>esxcc.com/js/index.htm?us.battle.net/login/en/...</td>\n",
       "      <td>bad</td>\n",
       "    </tr>\n",
       "  </tbody>\n",
       "</table>\n",
       "</div>"
      ],
      "text/plain": [
       "                                                 URL Label\n",
       "0  center-paypal-resolution-com.cgi-bin.dispatch9...   bad\n",
       "1                                      bit.ly/SWeTMu   bad\n",
       "2  www.ekriswebshop.nl/js/?cgi.ebay.ebay.co.uk?ro...   bad\n",
       "3                           www.itaupersonnakite.com   bad\n",
       "4  esxcc.com/js/index.htm?us.battle.net/login/en/...   bad"
      ]
     },
     "execution_count": 264,
     "metadata": {},
     "output_type": "execute_result"
    }
   ],
   "source": [
    "# Collecting 10000 phishing urls random from our dataset\n",
    "phish_url = df1.sample(n=10000, random_state=22).copy()\n",
    "phish_url = phish_url.reset_index(drop=True)\n",
    "phish_url.head()"
   ]
  },
  {
   "cell_type": "markdown",
   "id": "b463c71f",
   "metadata": {},
   "source": [
    "### Legitimate Url"
   ]
  },
  {
   "cell_type": "code",
   "execution_count": 265,
   "id": "da0b97fb",
   "metadata": {},
   "outputs": [
    {
     "data": {
      "text/html": [
       "<div>\n",
       "<style scoped>\n",
       "    .dataframe tbody tr th:only-of-type {\n",
       "        vertical-align: middle;\n",
       "    }\n",
       "\n",
       "    .dataframe tbody tr th {\n",
       "        vertical-align: top;\n",
       "    }\n",
       "\n",
       "    .dataframe thead th {\n",
       "        text-align: right;\n",
       "    }\n",
       "</style>\n",
       "<table border=\"1\" class=\"dataframe\">\n",
       "  <thead>\n",
       "    <tr style=\"text-align: right;\">\n",
       "      <th></th>\n",
       "      <th>index</th>\n",
       "      <th>URL</th>\n",
       "    </tr>\n",
       "  </thead>\n",
       "  <tbody>\n",
       "    <tr>\n",
       "      <th>0</th>\n",
       "      <td>1</td>\n",
       "      <td>google.com</td>\n",
       "    </tr>\n",
       "    <tr>\n",
       "      <th>1</th>\n",
       "      <td>2</td>\n",
       "      <td>youtube.com</td>\n",
       "    </tr>\n",
       "    <tr>\n",
       "      <th>2</th>\n",
       "      <td>3</td>\n",
       "      <td>facebook.com</td>\n",
       "    </tr>\n",
       "    <tr>\n",
       "      <th>3</th>\n",
       "      <td>4</td>\n",
       "      <td>baidu.com</td>\n",
       "    </tr>\n",
       "    <tr>\n",
       "      <th>4</th>\n",
       "      <td>5</td>\n",
       "      <td>wikipedia.org</td>\n",
       "    </tr>\n",
       "  </tbody>\n",
       "</table>\n",
       "</div>"
      ],
      "text/plain": [
       "   index            URL\n",
       "0      1     google.com\n",
       "1      2    youtube.com\n",
       "2      3   facebook.com\n",
       "3      4      baidu.com\n",
       "4      5  wikipedia.org"
      ]
     },
     "execution_count": 265,
     "metadata": {},
     "output_type": "execute_result"
    }
   ],
   "source": [
    "# Loding the legitimate Urls into dataframe\n",
    "df2 = pd.read_csv(r'../data/top-1m.csv')\n",
    "df2.head()"
   ]
  },
  {
   "cell_type": "code",
   "execution_count": 266,
   "id": "a0ca4a07",
   "metadata": {},
   "outputs": [
    {
     "data": {
      "text/html": [
       "<div>\n",
       "<style scoped>\n",
       "    .dataframe tbody tr th:only-of-type {\n",
       "        vertical-align: middle;\n",
       "    }\n",
       "\n",
       "    .dataframe tbody tr th {\n",
       "        vertical-align: top;\n",
       "    }\n",
       "\n",
       "    .dataframe thead th {\n",
       "        text-align: right;\n",
       "    }\n",
       "</style>\n",
       "<table border=\"1\" class=\"dataframe\">\n",
       "  <thead>\n",
       "    <tr style=\"text-align: right;\">\n",
       "      <th></th>\n",
       "      <th>index</th>\n",
       "      <th>URL</th>\n",
       "    </tr>\n",
       "  </thead>\n",
       "  <tbody>\n",
       "    <tr>\n",
       "      <th>0</th>\n",
       "      <td>112005</td>\n",
       "      <td>whatismyscreenresolution.com</td>\n",
       "    </tr>\n",
       "    <tr>\n",
       "      <th>1</th>\n",
       "      <td>780467</td>\n",
       "      <td>str8guysecrets.tumblr.com</td>\n",
       "    </tr>\n",
       "    <tr>\n",
       "      <th>2</th>\n",
       "      <td>731929</td>\n",
       "      <td>amalric.fr</td>\n",
       "    </tr>\n",
       "    <tr>\n",
       "      <th>3</th>\n",
       "      <td>914379</td>\n",
       "      <td>keplergrp.com</td>\n",
       "    </tr>\n",
       "    <tr>\n",
       "      <th>4</th>\n",
       "      <td>880257</td>\n",
       "      <td>i24.cc</td>\n",
       "    </tr>\n",
       "  </tbody>\n",
       "</table>\n",
       "</div>"
      ],
      "text/plain": [
       "    index                           URL\n",
       "0  112005  whatismyscreenresolution.com\n",
       "1  780467     str8guysecrets.tumblr.com\n",
       "2  731929                    amalric.fr\n",
       "3  914379                 keplergrp.com\n",
       "4  880257                        i24.cc"
      ]
     },
     "execution_count": 266,
     "metadata": {},
     "output_type": "execute_result"
    }
   ],
   "source": [
    "# Collecting 10000 legitimate urls random from our dataset\n",
    "legit_url =df2.sample(n=10000, random_state=22).copy()\n",
    "legit_url = legit_url.reset_index(drop=True)\n",
    "legit_url.head()"
   ]
  },
  {
   "cell_type": "markdown",
   "id": "2ef0bb5d",
   "metadata": {},
   "source": [
    "### Feature Extraction:\n",
    "The extracted features are categorized into\n",
    "\n",
    "1. Address Bar based Features\n",
    "2. Domain based Features\n",
    "3. HTML & Javascript based Features"
   ]
  },
  {
   "cell_type": "markdown",
   "id": "9add260e",
   "metadata": {},
   "source": [
    "### Address Bar Based Features:"
   ]
  },
  {
   "cell_type": "code",
   "execution_count": 267,
   "id": "c605203d",
   "metadata": {},
   "outputs": [],
   "source": [
    "# importing required packages for this section\n",
    "from urllib.parse import urlparse, urlencode\n",
    "import ipaddress\n",
    "import re"
   ]
  },
  {
   "cell_type": "code",
   "execution_count": 268,
   "id": "8c0e673e",
   "metadata": {},
   "outputs": [],
   "source": [
    "# Domain of the Url (Domain)\n",
    "def getDomainUrl(url):\n",
    "    try:\n",
    "        if not url.startswith('http'):\n",
    "            url = 'http://' + url\n",
    "        domain = urlparse(url).netloc\n",
    "        if domain.startswith('www.'):\n",
    "            domain = domain[4:]\n",
    "        return domain\n",
    "    except ValueError:\n",
    "        return None"
   ]
  },
  {
   "cell_type": "code",
   "execution_count": 269,
   "id": "dc21e470",
   "metadata": {},
   "outputs": [],
   "source": [
    "# check for having ip add. in url (Have_IP)\n",
    "def has_IpAdd(url):\n",
    "    try:\n",
    "        ipaddress.ip_address(url)\n",
    "        ip = 1\n",
    "    except:\n",
    "        ip = 0\n",
    "    return ip"
   ]
  },
  {
   "cell_type": "code",
   "execution_count": 270,
   "id": "07c8a39b",
   "metadata": {},
   "outputs": [],
   "source": [
    "# check the presence of @ in url (Have_At)\n",
    "def haveAtSign(url):\n",
    "    if \"@\" in url:\n",
    "        at = 1\n",
    "    else:\n",
    "        at = 0\n",
    "    return at"
   ]
  },
  {
   "cell_type": "code",
   "execution_count": 271,
   "id": "2e9cf6cc",
   "metadata": {},
   "outputs": [],
   "source": [
    "# check for length of url, url greater than 75 charcteris consider as phishing (Url_Length)\n",
    "def getLength(url):\n",
    "    if len(url) > 75:\n",
    "        length = 1\n",
    "    else:\n",
    "        length = 0\n",
    "    return length"
   ]
  },
  {
   "cell_type": "code",
   "execution_count": 272,
   "id": "bebde5a2",
   "metadata": {},
   "outputs": [],
   "source": [
    "# check for url depth (Url_Depth)\n",
    "def getUrlDepth(url):\n",
    "    s = urlparse(url).path.split('/')\n",
    "    depth = 0\n",
    "    for j in s:\n",
    "        if len(j) != 0:\n",
    "            depth = depth + 1\n",
    "    return depth"
   ]
  },
  {
   "cell_type": "code",
   "execution_count": 273,
   "id": "912e0107",
   "metadata": {},
   "outputs": [],
   "source": [
    "# check for url redirection \"//\" in the url (Redirection)\n",
    "def redirection(url):\n",
    "    pos = url.rfind('//')\n",
    "    if pos > 6 :\n",
    "        if pos > 7:\n",
    "            return 1\n",
    "        else:\n",
    "            return 0\n",
    "    else:\n",
    "        return 0"
   ]
  },
  {
   "cell_type": "code",
   "execution_count": 274,
   "id": "ef74da6d",
   "metadata": {},
   "outputs": [],
   "source": [
    "# check for existence of 'HTTPS' in domain (https_domain)\n",
    "def httpsDomain(url):\n",
    "    domain = urlparse(url).netloc\n",
    "    if 'https' in domain:\n",
    "        return 1\n",
    "    else:\n",
    "        return 0"
   ]
  },
  {
   "cell_type": "code",
   "execution_count": 275,
   "id": "69cdd9a1",
   "metadata": {},
   "outputs": [],
   "source": [
    "#listing shortening services\n",
    "shortening_services = r\"bit\\.ly|goo\\.gl|shorte\\.st|go2l\\.ink|x\\.co|ow\\.ly|t\\.co|tinyurl|tr\\.im|is\\.gd|cli\\.gs|\" \\\n",
    "                      r\"yfrog\\.com|migre\\.me|ff\\.im|tiny\\.cc|url4\\.eu|twit\\.ac|su\\.pr|twurl\\.nl|snipurl\\.com|\" \\\n",
    "                      r\"short\\.to|BudURL\\.com|ping\\.fm|post\\.ly|Just\\.as|bkite\\.com|snipr\\.com|fic\\.kr|loopt\\.us|\" \\\n",
    "                      r\"doiop\\.com|short\\.ie|kl\\.am|wp\\.me|rubyurl\\.com|om\\.ly|to\\.ly|bit\\.do|t\\.co|lnkd\\.in|db\\.tt|\" \\\n",
    "                      r\"qr\\.ae|adf\\.ly|goo\\.gl|bitly\\.com|cur\\.lv|tinyurl\\.com|ow\\.ly|bit\\.ly|ity\\.im|q\\.gs|is\\.gd|\" \\\n",
    "                      r\"po\\.st|bc\\.vc|twitthis\\.com|u\\.to|j\\.mp|buzurl\\.com|cutt\\.us|u\\.bb|yourls\\.org|x\\.co|\" \\\n",
    "                      r\"prettylinkpro\\.com|scrnch\\.me|filoops\\.info|vzturl\\.com|qr\\.net|1url\\.com|tweez\\.me|v\\.gd|\" \\\n",
    "                      r\"tr\\.im|link\\.zip\\.net\""
   ]
  },
  {
   "cell_type": "code",
   "execution_count": 276,
   "id": "4df7412f",
   "metadata": {},
   "outputs": [],
   "source": [
    "# check for shorting service (Tiny_Url)\n",
    "def tinyUrl(url):\n",
    "    match=re.search(shortening_services,url)\n",
    "    if match:\n",
    "        return 1\n",
    "    else:\n",
    "        return 0"
   ]
  },
  {
   "cell_type": "code",
   "execution_count": 277,
   "id": "39431171",
   "metadata": {},
   "outputs": [],
   "source": [
    "# check for prefix and suffix with this '-' symbol (Prefix/Suffix)\n",
    "def prefixSuffix(url):\n",
    "    if '-' in urlparse(url).netloc:\n",
    "        return 1\n",
    "    else:\n",
    "        return 0"
   ]
  },
  {
   "cell_type": "markdown",
   "id": "56ac5ba9",
   "metadata": {},
   "source": [
    "### Domain Based feature extraction"
   ]
  },
  {
   "cell_type": "code",
   "execution_count": 278,
   "id": "601da26a",
   "metadata": {},
   "outputs": [
    {
     "name": "stdout",
     "output_type": "stream",
     "text": [
      "Requirement already satisfied: python-whois in c:\\users\\rahul\\anaconda3\\lib\\site-packages (0.9.5)\n",
      "Requirement already satisfied: python-dateutil in c:\\users\\rahul\\anaconda3\\lib\\site-packages (from python-whois) (2.8.2)\n",
      "Requirement already satisfied: six>=1.5 in c:\\users\\rahul\\anaconda3\\lib\\site-packages (from python-dateutil->python-whois) (1.16.0)\n"
     ]
    }
   ],
   "source": [
    "!pip install python-whois"
   ]
  },
  {
   "cell_type": "code",
   "execution_count": 279,
   "id": "12c9d2f5",
   "metadata": {},
   "outputs": [],
   "source": [
    "# importing required packages for this section\n",
    "import socket\n",
    "import whois\n",
    "import datetime"
   ]
  },
  {
   "cell_type": "code",
   "execution_count": 280,
   "id": "e93570dc",
   "metadata": {},
   "outputs": [],
   "source": [
    "# check for dns record \n",
    "def has_dns_record(domain):\n",
    "    try:\n",
    "        socket.gethostbyname(domain)\n",
    "        return 1\n",
    "    except:\n",
    "        return 0"
   ]
  },
  {
   "cell_type": "code",
   "execution_count": 281,
   "id": "e2211b4e",
   "metadata": {},
   "outputs": [],
   "source": [
    "# check for domain age\n",
    "def domain_age(domain):\n",
    "    try:\n",
    "        w = whois.whois(domain)\n",
    "        creation_date = w.creation_date\n",
    "        today = datetime.datetime.now()\n",
    "        num_days = (today - creation_date).days\n",
    "        if num_days > 365 :\n",
    "            return 0\n",
    "        else:\n",
    "            return 1\n",
    "    except:\n",
    "        return 1"
   ]
  },
  {
   "cell_type": "code",
   "execution_count": 282,
   "id": "c0f68a39",
   "metadata": {},
   "outputs": [],
   "source": [
    "# check for domain expairation date\n",
    "def domain_exp_date(domain):\n",
    "    try:\n",
    "        w = whois.whois(domain)\n",
    "        exp_date = w.expiration_date\n",
    "        today = datetime.datetime.now()\n",
    "        days_left = (exp_date - today)\n",
    "        if days_left > 183:\n",
    "            return 0\n",
    "        else:\n",
    "            return 1\n",
    "    except:\n",
    "        return 1"
   ]
  },
  {
   "cell_type": "markdown",
   "id": "ce32e162",
   "metadata": {},
   "source": [
    "### HTML and javascript based feature extraction"
   ]
  },
  {
   "cell_type": "code",
   "execution_count": 283,
   "id": "b834a1be",
   "metadata": {},
   "outputs": [],
   "source": [
    "# importing required package for this \n",
    "import requests\n",
    "from bs4 import BeautifulSoup"
   ]
  },
  {
   "cell_type": "code",
   "execution_count": 284,
   "id": "f9de993a",
   "metadata": {},
   "outputs": [],
   "source": [
    "# check for hrml iframe\n",
    "def iframe(response):\n",
    "    if response == \"\":\n",
    "        return 1\n",
    "    else:\n",
    "        soup = BeautifulSoup(response.text, 'html.parser')\n",
    "        iframe_tag = soup.find_all(\"iframe\")\n",
    "        if not iframe_tag:\n",
    "            return 0\n",
    "        for iframe in iframe_tag:\n",
    "            if not iframe.text.strip():\n",
    "                return 1\n",
    "        \n",
    "    return 0"
   ]
  },
  {
   "cell_type": "code",
   "execution_count": 285,
   "id": "a17eac29",
   "metadata": {},
   "outputs": [],
   "source": [
    "# check number of time website redirects to another (website forwarding)\n",
    "def forwarding(response) :\n",
    "    if response == \"\":\n",
    "        return 1\n",
    "    if len(response.history) <= 2:\n",
    "        return 0\n",
    "    else:\n",
    "        return 1"
   ]
  },
  {
   "cell_type": "code",
   "execution_count": 286,
   "id": "81e459cd",
   "metadata": {},
   "outputs": [],
   "source": [
    "# check for alter script\n",
    "def check_alert_script(response):\n",
    "    if response == \"\":\n",
    "        return 1\n",
    "    soup = BeautifulSoup(response.text, 'html.parser')\n",
    "    scripts = soup.find_all(\"script\")\n",
    "    \n",
    "    for script in scripts:\n",
    "        if script.string and 'alert(' in script.string:\n",
    "            return 1\n",
    "    return 0"
   ]
  },
  {
   "cell_type": "markdown",
   "id": "e9f5ee4e",
   "metadata": {},
   "source": [
    "### Computing Url Features"
   ]
  },
  {
   "cell_type": "code",
   "execution_count": 287,
   "id": "5400ab8a",
   "metadata": {},
   "outputs": [],
   "source": [
    "# function to extract all features\n",
    "def featureExtraction(url, label):\n",
    "    features = []\n",
    "    # Addressed based features\n",
    "    features.append(getDomainUrl(url))\n",
    "    features.append(has_IpAdd(url))\n",
    "    features.append(haveAtSign(url))\n",
    "    features.append(getLength(url))\n",
    "    features.append(getUrlDepth(url))\n",
    "    features.append(redirection(url))\n",
    "    features.append(httpsDomain(url))\n",
    "    features.append(tinyUrl(url))\n",
    "    features.append(prefixSuffix(url))\n",
    "    \n",
    "    # domain based features\n",
    "    whois_registered = 0\n",
    "    try:\n",
    "        domain = whois.whois(urlparse(url).netlok)\n",
    "    except:\n",
    "        whois_registered = 1\n",
    "        \n",
    "    features.append(1 if whois_registered == 1 else has_dns_record(domain))\n",
    "    features.append(1 if whois_registered == 1 else domain_age(domain))\n",
    "    features.append(1 if whois_registered == 1 else domain_exp_date(domain))\n",
    "    \n",
    "    # Html and javascript based features\n",
    "    try:\n",
    "        response = requests.get(url)\n",
    "    except:\n",
    "        response = \"\"\n",
    "    \n",
    "    features.append(iframe(response))\n",
    "    features.append(forwarding(response))\n",
    "    features.append(check_alert_script(response))\n",
    "    features.append(label)\n",
    "    \n",
    "    return features"
   ]
  },
  {
   "cell_type": "markdown",
   "id": "a3874e06",
   "metadata": {},
   "source": [
    "### Feature extraction on Legitimate URL"
   ]
  },
  {
   "cell_type": "code",
   "execution_count": 288,
   "id": "a317efca",
   "metadata": {},
   "outputs": [
    {
     "data": {
      "text/plain": [
       "(10000, 2)"
      ]
     },
     "execution_count": 288,
     "metadata": {},
     "output_type": "execute_result"
    }
   ],
   "source": [
    "legit_url.shape"
   ]
  },
  {
   "cell_type": "code",
   "execution_count": 289,
   "id": "dd62af55",
   "metadata": {},
   "outputs": [],
   "source": [
    "# extracting the features and converting them in to list\n",
    "legi_features = []\n",
    "label = 0\n",
    "\n",
    "for i in range(0, 10000):\n",
    "    URL = legit_url['URL'][i]\n",
    "    legi_features.append(featureExtraction(URL, label))   "
   ]
  },
  {
   "cell_type": "code",
   "execution_count": 290,
   "id": "7bb22878",
   "metadata": {},
   "outputs": [
    {
     "data": {
      "text/html": [
       "<div>\n",
       "<style scoped>\n",
       "    .dataframe tbody tr th:only-of-type {\n",
       "        vertical-align: middle;\n",
       "    }\n",
       "\n",
       "    .dataframe tbody tr th {\n",
       "        vertical-align: top;\n",
       "    }\n",
       "\n",
       "    .dataframe thead th {\n",
       "        text-align: right;\n",
       "    }\n",
       "</style>\n",
       "<table border=\"1\" class=\"dataframe\">\n",
       "  <thead>\n",
       "    <tr style=\"text-align: right;\">\n",
       "      <th></th>\n",
       "      <th>Domain</th>\n",
       "      <th>Have_IP</th>\n",
       "      <th>Have_At_Sign</th>\n",
       "      <th>Length</th>\n",
       "      <th>Depth</th>\n",
       "      <th>Redirection</th>\n",
       "      <th>HTTPS_Domain</th>\n",
       "      <th>TinyUrl</th>\n",
       "      <th>Prefix_Suffix</th>\n",
       "      <th>Has_DNS</th>\n",
       "      <th>Domain_Age</th>\n",
       "      <th>Domain_End</th>\n",
       "      <th>IFrame</th>\n",
       "      <th>web_Forwarding</th>\n",
       "      <th>Check_Alert_Script</th>\n",
       "      <th>Label</th>\n",
       "    </tr>\n",
       "  </thead>\n",
       "  <tbody>\n",
       "    <tr>\n",
       "      <th>0</th>\n",
       "      <td>whatismyscreenresolution.com</td>\n",
       "      <td>0</td>\n",
       "      <td>0</td>\n",
       "      <td>0</td>\n",
       "      <td>1</td>\n",
       "      <td>0</td>\n",
       "      <td>0</td>\n",
       "      <td>0</td>\n",
       "      <td>0</td>\n",
       "      <td>1</td>\n",
       "      <td>1</td>\n",
       "      <td>1</td>\n",
       "      <td>1</td>\n",
       "      <td>1</td>\n",
       "      <td>1</td>\n",
       "      <td>0</td>\n",
       "    </tr>\n",
       "    <tr>\n",
       "      <th>1</th>\n",
       "      <td>str8guysecrets.tumblr.com</td>\n",
       "      <td>0</td>\n",
       "      <td>0</td>\n",
       "      <td>0</td>\n",
       "      <td>1</td>\n",
       "      <td>0</td>\n",
       "      <td>0</td>\n",
       "      <td>0</td>\n",
       "      <td>0</td>\n",
       "      <td>1</td>\n",
       "      <td>1</td>\n",
       "      <td>1</td>\n",
       "      <td>1</td>\n",
       "      <td>1</td>\n",
       "      <td>1</td>\n",
       "      <td>0</td>\n",
       "    </tr>\n",
       "    <tr>\n",
       "      <th>2</th>\n",
       "      <td>amalric.fr</td>\n",
       "      <td>0</td>\n",
       "      <td>0</td>\n",
       "      <td>0</td>\n",
       "      <td>1</td>\n",
       "      <td>0</td>\n",
       "      <td>0</td>\n",
       "      <td>0</td>\n",
       "      <td>0</td>\n",
       "      <td>1</td>\n",
       "      <td>1</td>\n",
       "      <td>1</td>\n",
       "      <td>1</td>\n",
       "      <td>1</td>\n",
       "      <td>1</td>\n",
       "      <td>0</td>\n",
       "    </tr>\n",
       "    <tr>\n",
       "      <th>3</th>\n",
       "      <td>keplergrp.com</td>\n",
       "      <td>0</td>\n",
       "      <td>0</td>\n",
       "      <td>0</td>\n",
       "      <td>1</td>\n",
       "      <td>0</td>\n",
       "      <td>0</td>\n",
       "      <td>0</td>\n",
       "      <td>0</td>\n",
       "      <td>1</td>\n",
       "      <td>1</td>\n",
       "      <td>1</td>\n",
       "      <td>1</td>\n",
       "      <td>1</td>\n",
       "      <td>1</td>\n",
       "      <td>0</td>\n",
       "    </tr>\n",
       "    <tr>\n",
       "      <th>4</th>\n",
       "      <td>i24.cc</td>\n",
       "      <td>0</td>\n",
       "      <td>0</td>\n",
       "      <td>0</td>\n",
       "      <td>1</td>\n",
       "      <td>0</td>\n",
       "      <td>0</td>\n",
       "      <td>0</td>\n",
       "      <td>0</td>\n",
       "      <td>1</td>\n",
       "      <td>1</td>\n",
       "      <td>1</td>\n",
       "      <td>1</td>\n",
       "      <td>1</td>\n",
       "      <td>1</td>\n",
       "      <td>0</td>\n",
       "    </tr>\n",
       "  </tbody>\n",
       "</table>\n",
       "</div>"
      ],
      "text/plain": [
       "                         Domain  Have_IP  Have_At_Sign  Length  Depth  \\\n",
       "0  whatismyscreenresolution.com        0             0       0      1   \n",
       "1     str8guysecrets.tumblr.com        0             0       0      1   \n",
       "2                    amalric.fr        0             0       0      1   \n",
       "3                 keplergrp.com        0             0       0      1   \n",
       "4                        i24.cc        0             0       0      1   \n",
       "\n",
       "   Redirection  HTTPS_Domain  TinyUrl  Prefix_Suffix  Has_DNS  Domain_Age  \\\n",
       "0            0             0        0              0        1           1   \n",
       "1            0             0        0              0        1           1   \n",
       "2            0             0        0              0        1           1   \n",
       "3            0             0        0              0        1           1   \n",
       "4            0             0        0              0        1           1   \n",
       "\n",
       "   Domain_End  IFrame  web_Forwarding  Check_Alert_Script  Label  \n",
       "0           1       1               1                   1      0  \n",
       "1           1       1               1                   1      0  \n",
       "2           1       1               1                   1      0  \n",
       "3           1       1               1                   1      0  \n",
       "4           1       1               1                   1      0  "
      ]
     },
     "execution_count": 290,
     "metadata": {},
     "output_type": "execute_result"
    }
   ],
   "source": [
    "# converting list into data frames\n",
    "features_name = ['Domain', 'Have_IP', 'Have_At_Sign', 'Length', 'Depth', 'Redirection', 'HTTPS_Domain', 'TinyUrl', \n",
    "                 'Prefix_Suffix', 'Has_DNS', 'Domain_Age', 'Domain_End', 'IFrame', 'web_Forwarding', 'Check_Alert_Script', 'Label']\n",
    "legitimate = pd.DataFrame(legi_features, columns=features_name)\n",
    "legitimate.head()"
   ]
  },
  {
   "cell_type": "code",
   "execution_count": 291,
   "id": "82bf99dd",
   "metadata": {},
   "outputs": [],
   "source": [
    "legitimate.to_csv('../data/legitimate.csv', index=False)"
   ]
  },
  {
   "cell_type": "markdown",
   "id": "51b2165d",
   "metadata": {},
   "source": [
    "### Feature extraction for Phishing Domain"
   ]
  },
  {
   "cell_type": "code",
   "execution_count": 292,
   "id": "90c934f2",
   "metadata": {},
   "outputs": [
    {
     "data": {
      "text/plain": [
       "(10000, 2)"
      ]
     },
     "execution_count": 292,
     "metadata": {},
     "output_type": "execute_result"
    }
   ],
   "source": [
    "phish_url.shape"
   ]
  },
  {
   "cell_type": "code",
   "execution_count": 293,
   "id": "b81a61a1",
   "metadata": {},
   "outputs": [],
   "source": [
    "# extracting phishing url features\n",
    "phishing_features = []\n",
    "label = 1\n",
    "\n",
    "for i in range(0, 10000):\n",
    "    URL = phish_url['URL'][i]\n",
    "    phishing_features.append(featureExtraction(URL, label))"
   ]
  },
  {
   "cell_type": "code",
   "execution_count": 294,
   "id": "2f9382f1",
   "metadata": {},
   "outputs": [
    {
     "data": {
      "text/html": [
       "<div>\n",
       "<style scoped>\n",
       "    .dataframe tbody tr th:only-of-type {\n",
       "        vertical-align: middle;\n",
       "    }\n",
       "\n",
       "    .dataframe tbody tr th {\n",
       "        vertical-align: top;\n",
       "    }\n",
       "\n",
       "    .dataframe thead th {\n",
       "        text-align: right;\n",
       "    }\n",
       "</style>\n",
       "<table border=\"1\" class=\"dataframe\">\n",
       "  <thead>\n",
       "    <tr style=\"text-align: right;\">\n",
       "      <th></th>\n",
       "      <th>Domain</th>\n",
       "      <th>Have_IP</th>\n",
       "      <th>Have_At_Sign</th>\n",
       "      <th>Length</th>\n",
       "      <th>Depth</th>\n",
       "      <th>Redirection</th>\n",
       "      <th>HTTPS_Domain</th>\n",
       "      <th>TinyUrl</th>\n",
       "      <th>Prefix_Suffix</th>\n",
       "      <th>Has_DNS</th>\n",
       "      <th>Domain_Age</th>\n",
       "      <th>Domain_End</th>\n",
       "      <th>IFrame</th>\n",
       "      <th>web_Forwarding</th>\n",
       "      <th>Check_Alert_Script</th>\n",
       "      <th>Label</th>\n",
       "    </tr>\n",
       "  </thead>\n",
       "  <tbody>\n",
       "    <tr>\n",
       "      <th>0</th>\n",
       "      <td>center-paypal-resolution-com.cgi-bin.dispatch9...</td>\n",
       "      <td>0</td>\n",
       "      <td>0</td>\n",
       "      <td>1</td>\n",
       "      <td>3</td>\n",
       "      <td>0</td>\n",
       "      <td>0</td>\n",
       "      <td>0</td>\n",
       "      <td>0</td>\n",
       "      <td>1</td>\n",
       "      <td>1</td>\n",
       "      <td>1</td>\n",
       "      <td>1</td>\n",
       "      <td>1</td>\n",
       "      <td>1</td>\n",
       "      <td>1</td>\n",
       "    </tr>\n",
       "    <tr>\n",
       "      <th>1</th>\n",
       "      <td>bit.ly</td>\n",
       "      <td>0</td>\n",
       "      <td>0</td>\n",
       "      <td>0</td>\n",
       "      <td>2</td>\n",
       "      <td>0</td>\n",
       "      <td>0</td>\n",
       "      <td>1</td>\n",
       "      <td>0</td>\n",
       "      <td>1</td>\n",
       "      <td>1</td>\n",
       "      <td>1</td>\n",
       "      <td>1</td>\n",
       "      <td>1</td>\n",
       "      <td>1</td>\n",
       "      <td>1</td>\n",
       "    </tr>\n",
       "    <tr>\n",
       "      <th>2</th>\n",
       "      <td>ekriswebshop.nl</td>\n",
       "      <td>0</td>\n",
       "      <td>0</td>\n",
       "      <td>1</td>\n",
       "      <td>2</td>\n",
       "      <td>0</td>\n",
       "      <td>0</td>\n",
       "      <td>0</td>\n",
       "      <td>0</td>\n",
       "      <td>1</td>\n",
       "      <td>1</td>\n",
       "      <td>1</td>\n",
       "      <td>1</td>\n",
       "      <td>1</td>\n",
       "      <td>1</td>\n",
       "      <td>1</td>\n",
       "    </tr>\n",
       "    <tr>\n",
       "      <th>3</th>\n",
       "      <td>itaupersonnakite.com</td>\n",
       "      <td>0</td>\n",
       "      <td>0</td>\n",
       "      <td>0</td>\n",
       "      <td>1</td>\n",
       "      <td>0</td>\n",
       "      <td>0</td>\n",
       "      <td>0</td>\n",
       "      <td>0</td>\n",
       "      <td>1</td>\n",
       "      <td>1</td>\n",
       "      <td>1</td>\n",
       "      <td>1</td>\n",
       "      <td>1</td>\n",
       "      <td>1</td>\n",
       "      <td>1</td>\n",
       "    </tr>\n",
       "    <tr>\n",
       "      <th>4</th>\n",
       "      <td>esxcc.com</td>\n",
       "      <td>0</td>\n",
       "      <td>0</td>\n",
       "      <td>1</td>\n",
       "      <td>3</td>\n",
       "      <td>0</td>\n",
       "      <td>0</td>\n",
       "      <td>0</td>\n",
       "      <td>0</td>\n",
       "      <td>1</td>\n",
       "      <td>1</td>\n",
       "      <td>1</td>\n",
       "      <td>1</td>\n",
       "      <td>1</td>\n",
       "      <td>1</td>\n",
       "      <td>1</td>\n",
       "    </tr>\n",
       "  </tbody>\n",
       "</table>\n",
       "</div>"
      ],
      "text/plain": [
       "                                              Domain  Have_IP  Have_At_Sign  \\\n",
       "0  center-paypal-resolution-com.cgi-bin.dispatch9...        0             0   \n",
       "1                                             bit.ly        0             0   \n",
       "2                                    ekriswebshop.nl        0             0   \n",
       "3                               itaupersonnakite.com        0             0   \n",
       "4                                          esxcc.com        0             0   \n",
       "\n",
       "   Length  Depth  Redirection  HTTPS_Domain  TinyUrl  Prefix_Suffix  Has_DNS  \\\n",
       "0       1      3            0             0        0              0        1   \n",
       "1       0      2            0             0        1              0        1   \n",
       "2       1      2            0             0        0              0        1   \n",
       "3       0      1            0             0        0              0        1   \n",
       "4       1      3            0             0        0              0        1   \n",
       "\n",
       "   Domain_Age  Domain_End  IFrame  web_Forwarding  Check_Alert_Script  Label  \n",
       "0           1           1       1               1                   1      1  \n",
       "1           1           1       1               1                   1      1  \n",
       "2           1           1       1               1                   1      1  \n",
       "3           1           1       1               1                   1      1  \n",
       "4           1           1       1               1                   1      1  "
      ]
     },
     "execution_count": 294,
     "metadata": {},
     "output_type": "execute_result"
    }
   ],
   "source": [
    "# converting list into data frames\n",
    "features_name = ['Domain', 'Have_IP', 'Have_At_Sign', 'Length', 'Depth', 'Redirection', 'HTTPS_Domain', 'TinyUrl', \n",
    "                 'Prefix_Suffix', 'Has_DNS', 'Domain_Age', 'Domain_End', 'IFrame', 'web_Forwarding', 'Check_Alert_Script', 'Label']\n",
    "phishing = pd.DataFrame(phishing_features, columns=features_name)\n",
    "phishing.head()"
   ]
  },
  {
   "cell_type": "code",
   "execution_count": 295,
   "id": "9af1bf08",
   "metadata": {},
   "outputs": [],
   "source": [
    "phishing.to_csv('../data/phishing.csv', index=False)"
   ]
  }
 ],
 "metadata": {
  "kernelspec": {
   "display_name": "python (myenv1)",
   "language": "python",
   "name": "myenv1"
  },
  "language_info": {
   "codemirror_mode": {
    "name": "ipython",
    "version": 3
   },
   "file_extension": ".py",
   "mimetype": "text/x-python",
   "name": "python",
   "nbconvert_exporter": "python",
   "pygments_lexer": "ipython3",
   "version": "3.9.13"
  }
 },
 "nbformat": 4,
 "nbformat_minor": 5
}
